{
  "nbformat": 4,
  "nbformat_minor": 0,
  "metadata": {
    "colab": {
      "name": "Reviews_Query.ipynb",
      "provenance": [],
      "toc_visible": true
    },
    "kernelspec": {
      "name": "python3",
      "display_name": "Python 3"
    },
    "accelerator": "GPU"
  },
  "cells": [
    {
      "cell_type": "code",
      "metadata": {
        "id": "UKMFAm1w9SHk",
        "colab_type": "code",
        "outputId": "319c5eb2-f80b-4a2d-d8e3-e8bdd82bb9f1",
        "colab": {
          "base_uri": "https://localhost:8080/",
          "height": 122
        }
      },
      "source": [
        "from google.colab import drive\n",
        "drive.mount('/content/drive')"
      ],
      "execution_count": 0,
      "outputs": [
        {
          "output_type": "stream",
          "text": [
            "Go to this URL in a browser: https://accounts.google.com/o/oauth2/auth?client_id=947318989803-6bn6qk8qdgf4n4g3pfee6491hc0brc4i.apps.googleusercontent.com&redirect_uri=urn%3Aietf%3Awg%3Aoauth%3A2.0%3Aoob&scope=email%20https%3A%2F%2Fwww.googleapis.com%2Fauth%2Fdocs.test%20https%3A%2F%2Fwww.googleapis.com%2Fauth%2Fdrive%20https%3A%2F%2Fwww.googleapis.com%2Fauth%2Fdrive.photos.readonly%20https%3A%2F%2Fwww.googleapis.com%2Fauth%2Fpeopleapi.readonly&response_type=code\n",
            "\n",
            "Enter your authorization code:\n",
            "··········\n",
            "Mounted at /content/drive\n"
          ],
          "name": "stdout"
        }
      ]
    },
    {
      "cell_type": "markdown",
      "metadata": {
        "id": "_JXHMlpkq4Qf",
        "colab_type": "text"
      },
      "source": [
        "## Install Kaggle, Clone Repo and Get Dataset"
      ]
    },
    {
      "cell_type": "code",
      "metadata": {
        "id": "DkT11JCe9As-",
        "colab_type": "code",
        "colab": {}
      },
      "source": [
        "!pip install -U -q kaggle\n",
        "!mkdir -p ~/.kaggle"
      ],
      "execution_count": 0,
      "outputs": []
    },
    {
      "cell_type": "code",
      "metadata": {
        "id": "_FMsahzHAXw1",
        "colab_type": "code",
        "outputId": "2b7eb1f0-e212-401e-810a-47503e4799e5",
        "colab": {
          "base_uri": "https://localhost:8080/",
          "height": 119
        }
      },
      "source": [
        "!git clone https://github.com/yusuffjamal3/Reviews_Query.git"
      ],
      "execution_count": 0,
      "outputs": [
        {
          "output_type": "stream",
          "text": [
            "Cloning into 'Reviews_Query'...\n",
            "remote: Enumerating objects: 36, done.\u001b[K\n",
            "remote: Counting objects: 100% (36/36), done.\u001b[K\n",
            "remote: Compressing objects: 100% (35/35), done.\u001b[K\n",
            "remote: Total 36 (delta 10), reused 3 (delta 0), pack-reused 0\u001b[K\n",
            "Unpacking objects: 100% (36/36), done.\n"
          ],
          "name": "stdout"
        }
      ]
    },
    {
      "cell_type": "code",
      "metadata": {
        "id": "xy6xxnw5Acc0",
        "colab_type": "code",
        "colab": {}
      },
      "source": [
        "!cp Reviews_Query/kaggle.json ~/.kaggle/"
      ],
      "execution_count": 0,
      "outputs": []
    },
    {
      "cell_type": "code",
      "metadata": {
        "id": "RMPBl7nrA9Ij",
        "colab_type": "code",
        "outputId": "9abd730c-9173-4135-fd5e-8b32ed012807",
        "colab": {
          "base_uri": "https://localhost:8080/",
          "height": 105
        }
      },
      "source": [
        "!kaggle datasets download -d snap/amazon-fine-food-reviews"
      ],
      "execution_count": 0,
      "outputs": [
        {
          "output_type": "stream",
          "text": [
            "Warning: Your Kaggle API key is readable by other users on this system! To fix this, you can run 'chmod 600 /root/.kaggle/kaggle.json'\n",
            "Downloading amazon-fine-food-reviews.zip to /content\n",
            " 95% 230M/242M [00:02<00:00, 108MB/s] \n",
            "100% 242M/242M [00:02<00:00, 116MB/s]\n"
          ],
          "name": "stdout"
        }
      ]
    },
    {
      "cell_type": "code",
      "metadata": {
        "id": "2PeIUbP0BK8l",
        "colab_type": "code",
        "outputId": "a3a7d4e3-406f-4c32-cc2e-ec78b2b479f9",
        "colab": {
          "base_uri": "https://localhost:8080/",
          "height": 85
        }
      },
      "source": [
        "!unzip /content/amazon-fine-food-reviews.zip"
      ],
      "execution_count": 0,
      "outputs": [
        {
          "output_type": "stream",
          "text": [
            "Archive:  /content/amazon-fine-food-reviews.zip\n",
            "  inflating: Reviews.csv             \n",
            "  inflating: database.sqlite         \n",
            "  inflating: hashes.txt              \n"
          ],
          "name": "stdout"
        }
      ]
    },
    {
      "cell_type": "code",
      "metadata": {
        "id": "Zo10KvrC5o6f",
        "colab_type": "code",
        "outputId": "505f86a4-bc09-428d-d384-b353120b5bb8",
        "colab": {
          "base_uri": "https://localhost:8080/",
          "height": 163
        }
      },
      "source": [
        "pd.set_option('display.max_colwidth', 999)"
      ],
      "execution_count": 0,
      "outputs": [
        {
          "output_type": "error",
          "ename": "NameError",
          "evalue": "ignored",
          "traceback": [
            "\u001b[0;31m---------------------------------------------------------------------------\u001b[0m",
            "\u001b[0;31mNameError\u001b[0m                                 Traceback (most recent call last)",
            "\u001b[0;32m<ipython-input-7-d5525f1fd748>\u001b[0m in \u001b[0;36m<module>\u001b[0;34m()\u001b[0m\n\u001b[0;32m----> 1\u001b[0;31m \u001b[0mpd\u001b[0m\u001b[0;34m.\u001b[0m\u001b[0mset_option\u001b[0m\u001b[0;34m(\u001b[0m\u001b[0;34m'display.max_colwidth'\u001b[0m\u001b[0;34m,\u001b[0m \u001b[0;36m999\u001b[0m\u001b[0;34m)\u001b[0m\u001b[0;34m\u001b[0m\u001b[0;34m\u001b[0m\u001b[0m\n\u001b[0m",
            "\u001b[0;31mNameError\u001b[0m: name 'pd' is not defined"
          ]
        }
      ]
    },
    {
      "cell_type": "code",
      "metadata": {
        "id": "qaz6PuOlB5wb",
        "colab_type": "code",
        "outputId": "54649770-298a-4efc-9e80-39d40dcd5650",
        "colab": {
          "base_uri": "https://localhost:8080/",
          "height": 289
        }
      },
      "source": [
        "import pandas as pd\n",
        "import numpy\n",
        "import sqlite3\n",
        "conn = sqlite3.connect(\"database.sqlite\")\n",
        "\n",
        "df = pd.read_sql_query(\"\"\"select UserId, ProductId, \n",
        "                          ProfileName, Time,\n",
        "                          Score, Text, COUNT(*)\n",
        "                          FROM reviews\n",
        "                          WHERE Score != 3\n",
        "                          GROUP BY UserId\n",
        "                          HAVING COUNT(*) > 1\"\"\", conn)\n",
        "a = df.head()\n",
        "df.head()"
      ],
      "execution_count": 0,
      "outputs": [
        {
          "output_type": "execute_result",
          "data": {
            "text/html": [
              "<div>\n",
              "<style scoped>\n",
              "    .dataframe tbody tr th:only-of-type {\n",
              "        vertical-align: middle;\n",
              "    }\n",
              "\n",
              "    .dataframe tbody tr th {\n",
              "        vertical-align: top;\n",
              "    }\n",
              "\n",
              "    .dataframe thead th {\n",
              "        text-align: right;\n",
              "    }\n",
              "</style>\n",
              "<table border=\"1\" class=\"dataframe\">\n",
              "  <thead>\n",
              "    <tr style=\"text-align: right;\">\n",
              "      <th></th>\n",
              "      <th>UserId</th>\n",
              "      <th>ProductId</th>\n",
              "      <th>ProfileName</th>\n",
              "      <th>Time</th>\n",
              "      <th>Score</th>\n",
              "      <th>Text</th>\n",
              "      <th>COUNT(*)</th>\n",
              "    </tr>\n",
              "  </thead>\n",
              "  <tbody>\n",
              "    <tr>\n",
              "      <th>0</th>\n",
              "      <td>#oc-R115TNMSPFT9I7</td>\n",
              "      <td>B007Y59HVM</td>\n",
              "      <td>Breyton</td>\n",
              "      <td>1331510400</td>\n",
              "      <td>2</td>\n",
              "      <td>Overall its just OK when considering the price...</td>\n",
              "      <td>2</td>\n",
              "    </tr>\n",
              "    <tr>\n",
              "      <th>1</th>\n",
              "      <td>#oc-R11D9D7SHXIJB9</td>\n",
              "      <td>B005HG9ET0</td>\n",
              "      <td>Louis E. Emory \"hoppy\"</td>\n",
              "      <td>1342396800</td>\n",
              "      <td>5</td>\n",
              "      <td>My wife has recurring extreme muscle spasms, u...</td>\n",
              "      <td>3</td>\n",
              "    </tr>\n",
              "    <tr>\n",
              "      <th>2</th>\n",
              "      <td>#oc-R11DNU2NBKQ23Z</td>\n",
              "      <td>B007Y59HVM</td>\n",
              "      <td>Kim Cieszykowski</td>\n",
              "      <td>1348531200</td>\n",
              "      <td>1</td>\n",
              "      <td>This coffee is horrible and unfortunately not ...</td>\n",
              "      <td>2</td>\n",
              "    </tr>\n",
              "    <tr>\n",
              "      <th>3</th>\n",
              "      <td>#oc-R11O5J5ZVQE25C</td>\n",
              "      <td>B005HG9ET0</td>\n",
              "      <td>Penguin Chick</td>\n",
              "      <td>1346889600</td>\n",
              "      <td>5</td>\n",
              "      <td>This will be the bottle that you grab from the...</td>\n",
              "      <td>3</td>\n",
              "    </tr>\n",
              "    <tr>\n",
              "      <th>4</th>\n",
              "      <td>#oc-R12KPBODL2B5ZD</td>\n",
              "      <td>B007OSBE1U</td>\n",
              "      <td>Christopher P. Presta</td>\n",
              "      <td>1348617600</td>\n",
              "      <td>1</td>\n",
              "      <td>I didnt like this coffee. Instead of telling y...</td>\n",
              "      <td>2</td>\n",
              "    </tr>\n",
              "  </tbody>\n",
              "</table>\n",
              "</div>"
            ],
            "text/plain": [
              "               UserId  ... COUNT(*)\n",
              "0  #oc-R115TNMSPFT9I7  ...        2\n",
              "1  #oc-R11D9D7SHXIJB9  ...        3\n",
              "2  #oc-R11DNU2NBKQ23Z  ...        2\n",
              "3  #oc-R11O5J5ZVQE25C  ...        3\n",
              "4  #oc-R12KPBODL2B5ZD  ...        2\n",
              "\n",
              "[5 rows x 7 columns]"
            ]
          },
          "metadata": {
            "tags": []
          },
          "execution_count": 8
        }
      ]
    },
    {
      "cell_type": "code",
      "metadata": {
        "id": "b443jitMOile",
        "colab_type": "code",
        "outputId": "4c5d962f-c743-4632-be3b-18097efb824d",
        "colab": {
          "base_uri": "https://localhost:8080/",
          "height": 289
        }
      },
      "source": [
        "df.sort_values('ProductId', inplace= True)\n",
        "df.drop_duplicates(subset =\"ProductId\", \n",
        "                     keep = False, inplace = True)\n",
        "df.head()"
      ],
      "execution_count": 0,
      "outputs": [
        {
          "output_type": "execute_result",
          "data": {
            "text/html": [
              "<div>\n",
              "<style scoped>\n",
              "    .dataframe tbody tr th:only-of-type {\n",
              "        vertical-align: middle;\n",
              "    }\n",
              "\n",
              "    .dataframe tbody tr th {\n",
              "        vertical-align: top;\n",
              "    }\n",
              "\n",
              "    .dataframe thead th {\n",
              "        text-align: right;\n",
              "    }\n",
              "</style>\n",
              "<table border=\"1\" class=\"dataframe\">\n",
              "  <thead>\n",
              "    <tr style=\"text-align: right;\">\n",
              "      <th></th>\n",
              "      <th>UserId</th>\n",
              "      <th>ProductId</th>\n",
              "      <th>ProfileName</th>\n",
              "      <th>Time</th>\n",
              "      <th>Score</th>\n",
              "      <th>Text</th>\n",
              "      <th>COUNT(*)</th>\n",
              "    </tr>\n",
              "  </thead>\n",
              "  <tbody>\n",
              "    <tr>\n",
              "      <th>53360</th>\n",
              "      <td>A3OI7ZGH6WZJ5G</td>\n",
              "      <td>0006641040</td>\n",
              "      <td>Mary Jane Rogers \"Maedchen\"</td>\n",
              "      <td>1293840000</td>\n",
              "      <td>5</td>\n",
              "      <td>The same author wrote \"Where the Wild Things A...</td>\n",
              "      <td>2</td>\n",
              "    </tr>\n",
              "    <tr>\n",
              "      <th>26134</th>\n",
              "      <td>A2BEAAU6N7K8GD</td>\n",
              "      <td>B000052Y74</td>\n",
              "      <td>Silne30</td>\n",
              "      <td>1350345600</td>\n",
              "      <td>4</td>\n",
              "      <td>It's just as described. Its minty, helps with ...</td>\n",
              "      <td>2</td>\n",
              "    </tr>\n",
              "    <tr>\n",
              "      <th>19211</th>\n",
              "      <td>A1YVJENMZL29O7</td>\n",
              "      <td>B00005344V</td>\n",
              "      <td>R. Meuli</td>\n",
              "      <td>1282348800</td>\n",
              "      <td>5</td>\n",
              "      <td>This product is Awesome and Helpful for anyone...</td>\n",
              "      <td>3</td>\n",
              "    </tr>\n",
              "    <tr>\n",
              "      <th>473</th>\n",
              "      <td>A10K7E9F0THV3</td>\n",
              "      <td>B0000535LF</td>\n",
              "      <td>Carol E. White</td>\n",
              "      <td>1315180800</td>\n",
              "      <td>5</td>\n",
              "      <td>Naturade Total Soy Meal Replacement powder was...</td>\n",
              "      <td>4</td>\n",
              "    </tr>\n",
              "    <tr>\n",
              "      <th>41746</th>\n",
              "      <td>A33BL538BKBA0S</td>\n",
              "      <td>B00005C2M3</td>\n",
              "      <td>girlabouttownl33t</td>\n",
              "      <td>1301443200</td>\n",
              "      <td>5</td>\n",
              "      <td>Buying this much is the most cost effective wa...</td>\n",
              "      <td>2</td>\n",
              "    </tr>\n",
              "  </tbody>\n",
              "</table>\n",
              "</div>"
            ],
            "text/plain": [
              "               UserId  ... COUNT(*)\n",
              "53360  A3OI7ZGH6WZJ5G  ...        2\n",
              "26134  A2BEAAU6N7K8GD  ...        2\n",
              "19211  A1YVJENMZL29O7  ...        3\n",
              "473     A10K7E9F0THV3  ...        4\n",
              "41746  A33BL538BKBA0S  ...        2\n",
              "\n",
              "[5 rows x 7 columns]"
            ]
          },
          "metadata": {
            "tags": []
          },
          "execution_count": 9
        }
      ]
    },
    {
      "cell_type": "code",
      "metadata": {
        "id": "Dt3JKB55SSf0",
        "colab_type": "code",
        "outputId": "47797b55-78a0-476e-f018-b41cc2efb751",
        "colab": {
          "base_uri": "https://localhost:8080/",
          "height": 51
        }
      },
      "source": [
        "positive_reviews = df['Score'].value_counts()[5] + df['Score'].value_counts()[4]\n",
        "negative_reviews = df['Score'].value_counts()[2] + df['Score'].value_counts()[1]\n",
        "\n",
        "print(\"The number of positive reviews are \" + str(positive_reviews), 'reviews')\n",
        "print(\"The number of negative reviews are \" + str(negative_reviews), 'reviews')"
      ],
      "execution_count": 0,
      "outputs": [
        {
          "output_type": "stream",
          "text": [
            "The number of positive reviews are 9949 reviews\n",
            "The number of negative reviews are 1844 reviews\n"
          ],
          "name": "stdout"
        }
      ]
    },
    {
      "cell_type": "code",
      "metadata": {
        "id": "NZMUJx1uUtay",
        "colab_type": "code",
        "outputId": "4bbe68ad-0c80-408e-bdaa-9add6c75ee9a",
        "colab": {
          "base_uri": "https://localhost:8080/",
          "height": 289
        }
      },
      "source": [
        "from html.parser import HTMLParser\n",
        "\n",
        "class MLStripper(HTMLParser):\n",
        "    def __init__(self):\n",
        "        self.reset()\n",
        "        self.strict = False\n",
        "        self.convert_charrefs= True\n",
        "        self.fed = []\n",
        "    def handle_data(self, d):\n",
        "        self.fed.append(d)\n",
        "    def get_data(self):\n",
        "        return ''.join(self.fed)\n",
        "\n",
        "def strip_tags(html):\n",
        "    s = MLStripper()\n",
        "    s.feed(html)\n",
        "    return s.get_data()\n",
        "  \n",
        "df['Text'] = df['Text'].apply(strip_tags)\n",
        "\n",
        "df.head()"
      ],
      "execution_count": 0,
      "outputs": [
        {
          "output_type": "execute_result",
          "data": {
            "text/html": [
              "<div>\n",
              "<style scoped>\n",
              "    .dataframe tbody tr th:only-of-type {\n",
              "        vertical-align: middle;\n",
              "    }\n",
              "\n",
              "    .dataframe tbody tr th {\n",
              "        vertical-align: top;\n",
              "    }\n",
              "\n",
              "    .dataframe thead th {\n",
              "        text-align: right;\n",
              "    }\n",
              "</style>\n",
              "<table border=\"1\" class=\"dataframe\">\n",
              "  <thead>\n",
              "    <tr style=\"text-align: right;\">\n",
              "      <th></th>\n",
              "      <th>UserId</th>\n",
              "      <th>ProductId</th>\n",
              "      <th>ProfileName</th>\n",
              "      <th>Time</th>\n",
              "      <th>Score</th>\n",
              "      <th>Text</th>\n",
              "      <th>COUNT(*)</th>\n",
              "    </tr>\n",
              "  </thead>\n",
              "  <tbody>\n",
              "    <tr>\n",
              "      <th>53360</th>\n",
              "      <td>A3OI7ZGH6WZJ5G</td>\n",
              "      <td>0006641040</td>\n",
              "      <td>Mary Jane Rogers \"Maedchen\"</td>\n",
              "      <td>1293840000</td>\n",
              "      <td>5</td>\n",
              "      <td>The same author wrote \"Where the Wild Things A...</td>\n",
              "      <td>2</td>\n",
              "    </tr>\n",
              "    <tr>\n",
              "      <th>26134</th>\n",
              "      <td>A2BEAAU6N7K8GD</td>\n",
              "      <td>B000052Y74</td>\n",
              "      <td>Silne30</td>\n",
              "      <td>1350345600</td>\n",
              "      <td>4</td>\n",
              "      <td>It's just as described. Its minty, helps with ...</td>\n",
              "      <td>2</td>\n",
              "    </tr>\n",
              "    <tr>\n",
              "      <th>19211</th>\n",
              "      <td>A1YVJENMZL29O7</td>\n",
              "      <td>B00005344V</td>\n",
              "      <td>R. Meuli</td>\n",
              "      <td>1282348800</td>\n",
              "      <td>5</td>\n",
              "      <td>This product is Awesome and Helpful for anyone...</td>\n",
              "      <td>3</td>\n",
              "    </tr>\n",
              "    <tr>\n",
              "      <th>473</th>\n",
              "      <td>A10K7E9F0THV3</td>\n",
              "      <td>B0000535LF</td>\n",
              "      <td>Carol E. White</td>\n",
              "      <td>1315180800</td>\n",
              "      <td>5</td>\n",
              "      <td>Naturade Total Soy Meal Replacement powder was...</td>\n",
              "      <td>4</td>\n",
              "    </tr>\n",
              "    <tr>\n",
              "      <th>41746</th>\n",
              "      <td>A33BL538BKBA0S</td>\n",
              "      <td>B00005C2M3</td>\n",
              "      <td>girlabouttownl33t</td>\n",
              "      <td>1301443200</td>\n",
              "      <td>5</td>\n",
              "      <td>Buying this much is the most cost effective wa...</td>\n",
              "      <td>2</td>\n",
              "    </tr>\n",
              "  </tbody>\n",
              "</table>\n",
              "</div>"
            ],
            "text/plain": [
              "               UserId  ... COUNT(*)\n",
              "53360  A3OI7ZGH6WZJ5G  ...        2\n",
              "26134  A2BEAAU6N7K8GD  ...        2\n",
              "19211  A1YVJENMZL29O7  ...        3\n",
              "473     A10K7E9F0THV3  ...        4\n",
              "41746  A33BL538BKBA0S  ...        2\n",
              "\n",
              "[5 rows x 7 columns]"
            ]
          },
          "metadata": {
            "tags": []
          },
          "execution_count": 11
        }
      ]
    },
    {
      "cell_type": "code",
      "metadata": {
        "id": "mJAz0vgAPGat",
        "colab_type": "code",
        "outputId": "adec2733-44d2-4012-83ea-5de4fbc322db",
        "colab": {
          "base_uri": "https://localhost:8080/",
          "height": 289
        }
      },
      "source": [
        "import re\n",
        "\n",
        "def remove_characters(text):\n",
        "  return re.sub(\"[^A-z0-9\\s]+\", \"\", text)\n",
        "  \n",
        "df['Text'] = df['Text'].apply(remove_characters)\n",
        "\n",
        "df.head()"
      ],
      "execution_count": 0,
      "outputs": [
        {
          "output_type": "execute_result",
          "data": {
            "text/html": [
              "<div>\n",
              "<style scoped>\n",
              "    .dataframe tbody tr th:only-of-type {\n",
              "        vertical-align: middle;\n",
              "    }\n",
              "\n",
              "    .dataframe tbody tr th {\n",
              "        vertical-align: top;\n",
              "    }\n",
              "\n",
              "    .dataframe thead th {\n",
              "        text-align: right;\n",
              "    }\n",
              "</style>\n",
              "<table border=\"1\" class=\"dataframe\">\n",
              "  <thead>\n",
              "    <tr style=\"text-align: right;\">\n",
              "      <th></th>\n",
              "      <th>UserId</th>\n",
              "      <th>ProductId</th>\n",
              "      <th>ProfileName</th>\n",
              "      <th>Time</th>\n",
              "      <th>Score</th>\n",
              "      <th>Text</th>\n",
              "      <th>COUNT(*)</th>\n",
              "    </tr>\n",
              "  </thead>\n",
              "  <tbody>\n",
              "    <tr>\n",
              "      <th>53360</th>\n",
              "      <td>A3OI7ZGH6WZJ5G</td>\n",
              "      <td>0006641040</td>\n",
              "      <td>Mary Jane Rogers \"Maedchen\"</td>\n",
              "      <td>1293840000</td>\n",
              "      <td>5</td>\n",
              "      <td>The same author wrote Where the Wild Things Ar...</td>\n",
              "      <td>2</td>\n",
              "    </tr>\n",
              "    <tr>\n",
              "      <th>26134</th>\n",
              "      <td>A2BEAAU6N7K8GD</td>\n",
              "      <td>B000052Y74</td>\n",
              "      <td>Silne30</td>\n",
              "      <td>1350345600</td>\n",
              "      <td>4</td>\n",
              "      <td>Its just as described Its minty helps with my ...</td>\n",
              "      <td>2</td>\n",
              "    </tr>\n",
              "    <tr>\n",
              "      <th>19211</th>\n",
              "      <td>A1YVJENMZL29O7</td>\n",
              "      <td>B00005344V</td>\n",
              "      <td>R. Meuli</td>\n",
              "      <td>1282348800</td>\n",
              "      <td>5</td>\n",
              "      <td>This product is Awesome and Helpful for anyone...</td>\n",
              "      <td>3</td>\n",
              "    </tr>\n",
              "    <tr>\n",
              "      <th>473</th>\n",
              "      <td>A10K7E9F0THV3</td>\n",
              "      <td>B0000535LF</td>\n",
              "      <td>Carol E. White</td>\n",
              "      <td>1315180800</td>\n",
              "      <td>5</td>\n",
              "      <td>Naturade Total Soy Meal Replacement powder was...</td>\n",
              "      <td>4</td>\n",
              "    </tr>\n",
              "    <tr>\n",
              "      <th>41746</th>\n",
              "      <td>A33BL538BKBA0S</td>\n",
              "      <td>B00005C2M3</td>\n",
              "      <td>girlabouttownl33t</td>\n",
              "      <td>1301443200</td>\n",
              "      <td>5</td>\n",
              "      <td>Buying this much is the most cost effective wa...</td>\n",
              "      <td>2</td>\n",
              "    </tr>\n",
              "  </tbody>\n",
              "</table>\n",
              "</div>"
            ],
            "text/plain": [
              "               UserId  ... COUNT(*)\n",
              "53360  A3OI7ZGH6WZJ5G  ...        2\n",
              "26134  A2BEAAU6N7K8GD  ...        2\n",
              "19211  A1YVJENMZL29O7  ...        3\n",
              "473     A10K7E9F0THV3  ...        4\n",
              "41746  A33BL538BKBA0S  ...        2\n",
              "\n",
              "[5 rows x 7 columns]"
            ]
          },
          "metadata": {
            "tags": []
          },
          "execution_count": 12
        }
      ]
    },
    {
      "cell_type": "code",
      "metadata": {
        "id": "gHoB9FXAQxyA",
        "colab_type": "code",
        "outputId": "90f360e7-1853-4c3b-a030-f8aae0eb018f",
        "colab": {
          "base_uri": "https://localhost:8080/",
          "height": 289
        }
      },
      "source": [
        "def remove_non_english(text):\n",
        "\treturn re.sub(\"[^a-zA-Z\\s]\", \"\", text)\n",
        "\n",
        "df['Text'] = df['Text'].apply(remove_non_english)\n",
        "\n",
        "df.head()"
      ],
      "execution_count": 0,
      "outputs": [
        {
          "output_type": "execute_result",
          "data": {
            "text/html": [
              "<div>\n",
              "<style scoped>\n",
              "    .dataframe tbody tr th:only-of-type {\n",
              "        vertical-align: middle;\n",
              "    }\n",
              "\n",
              "    .dataframe tbody tr th {\n",
              "        vertical-align: top;\n",
              "    }\n",
              "\n",
              "    .dataframe thead th {\n",
              "        text-align: right;\n",
              "    }\n",
              "</style>\n",
              "<table border=\"1\" class=\"dataframe\">\n",
              "  <thead>\n",
              "    <tr style=\"text-align: right;\">\n",
              "      <th></th>\n",
              "      <th>UserId</th>\n",
              "      <th>ProductId</th>\n",
              "      <th>ProfileName</th>\n",
              "      <th>Time</th>\n",
              "      <th>Score</th>\n",
              "      <th>Text</th>\n",
              "      <th>COUNT(*)</th>\n",
              "    </tr>\n",
              "  </thead>\n",
              "  <tbody>\n",
              "    <tr>\n",
              "      <th>53360</th>\n",
              "      <td>A3OI7ZGH6WZJ5G</td>\n",
              "      <td>0006641040</td>\n",
              "      <td>Mary Jane Rogers \"Maedchen\"</td>\n",
              "      <td>1293840000</td>\n",
              "      <td>5</td>\n",
              "      <td>The same author wrote Where the Wild Things Ar...</td>\n",
              "      <td>2</td>\n",
              "    </tr>\n",
              "    <tr>\n",
              "      <th>26134</th>\n",
              "      <td>A2BEAAU6N7K8GD</td>\n",
              "      <td>B000052Y74</td>\n",
              "      <td>Silne30</td>\n",
              "      <td>1350345600</td>\n",
              "      <td>4</td>\n",
              "      <td>Its just as described Its minty helps with my ...</td>\n",
              "      <td>2</td>\n",
              "    </tr>\n",
              "    <tr>\n",
              "      <th>19211</th>\n",
              "      <td>A1YVJENMZL29O7</td>\n",
              "      <td>B00005344V</td>\n",
              "      <td>R. Meuli</td>\n",
              "      <td>1282348800</td>\n",
              "      <td>5</td>\n",
              "      <td>This product is Awesome and Helpful for anyone...</td>\n",
              "      <td>3</td>\n",
              "    </tr>\n",
              "    <tr>\n",
              "      <th>473</th>\n",
              "      <td>A10K7E9F0THV3</td>\n",
              "      <td>B0000535LF</td>\n",
              "      <td>Carol E. White</td>\n",
              "      <td>1315180800</td>\n",
              "      <td>5</td>\n",
              "      <td>Naturade Total Soy Meal Replacement powder was...</td>\n",
              "      <td>4</td>\n",
              "    </tr>\n",
              "    <tr>\n",
              "      <th>41746</th>\n",
              "      <td>A33BL538BKBA0S</td>\n",
              "      <td>B00005C2M3</td>\n",
              "      <td>girlabouttownl33t</td>\n",
              "      <td>1301443200</td>\n",
              "      <td>5</td>\n",
              "      <td>Buying this much is the most cost effective wa...</td>\n",
              "      <td>2</td>\n",
              "    </tr>\n",
              "  </tbody>\n",
              "</table>\n",
              "</div>"
            ],
            "text/plain": [
              "               UserId  ... COUNT(*)\n",
              "53360  A3OI7ZGH6WZJ5G  ...        2\n",
              "26134  A2BEAAU6N7K8GD  ...        2\n",
              "19211  A1YVJENMZL29O7  ...        3\n",
              "473     A10K7E9F0THV3  ...        4\n",
              "41746  A33BL538BKBA0S  ...        2\n",
              "\n",
              "[5 rows x 7 columns]"
            ]
          },
          "metadata": {
            "tags": []
          },
          "execution_count": 13
        }
      ]
    },
    {
      "cell_type": "code",
      "metadata": {
        "id": "SqyL0WSAdHrb",
        "colab_type": "code",
        "outputId": "eaba1222-2451-47ba-ebf0-bb1d2d8bf201",
        "colab": {
          "base_uri": "https://localhost:8080/",
          "height": 289
        }
      },
      "source": [
        "def check_length(text):\n",
        "  text = text.split()\n",
        "  contain = []\n",
        "  \n",
        "  for words in text:\n",
        "    if len(words) > 2:\n",
        "      contain.append(words)\n",
        "      \n",
        "  final = ' '.join(contain)\n",
        "  return final\n",
        "      \n",
        "  \n",
        "df['Text'] = df['Text'].apply(check_length)\n",
        "\n",
        "df.head()"
      ],
      "execution_count": 0,
      "outputs": [
        {
          "output_type": "execute_result",
          "data": {
            "text/html": [
              "<div>\n",
              "<style scoped>\n",
              "    .dataframe tbody tr th:only-of-type {\n",
              "        vertical-align: middle;\n",
              "    }\n",
              "\n",
              "    .dataframe tbody tr th {\n",
              "        vertical-align: top;\n",
              "    }\n",
              "\n",
              "    .dataframe thead th {\n",
              "        text-align: right;\n",
              "    }\n",
              "</style>\n",
              "<table border=\"1\" class=\"dataframe\">\n",
              "  <thead>\n",
              "    <tr style=\"text-align: right;\">\n",
              "      <th></th>\n",
              "      <th>UserId</th>\n",
              "      <th>ProductId</th>\n",
              "      <th>ProfileName</th>\n",
              "      <th>Time</th>\n",
              "      <th>Score</th>\n",
              "      <th>Text</th>\n",
              "      <th>COUNT(*)</th>\n",
              "    </tr>\n",
              "  </thead>\n",
              "  <tbody>\n",
              "    <tr>\n",
              "      <th>53360</th>\n",
              "      <td>A3OI7ZGH6WZJ5G</td>\n",
              "      <td>0006641040</td>\n",
              "      <td>Mary Jane Rogers \"Maedchen\"</td>\n",
              "      <td>1293840000</td>\n",
              "      <td>5</td>\n",
              "      <td>The same author wrote Where the Wild Things Ar...</td>\n",
              "      <td>2</td>\n",
              "    </tr>\n",
              "    <tr>\n",
              "      <th>26134</th>\n",
              "      <td>A2BEAAU6N7K8GD</td>\n",
              "      <td>B000052Y74</td>\n",
              "      <td>Silne30</td>\n",
              "      <td>1350345600</td>\n",
              "      <td>4</td>\n",
              "      <td>Its just described Its minty helps with milddr...</td>\n",
              "      <td>2</td>\n",
              "    </tr>\n",
              "    <tr>\n",
              "      <th>19211</th>\n",
              "      <td>A1YVJENMZL29O7</td>\n",
              "      <td>B00005344V</td>\n",
              "      <td>R. Meuli</td>\n",
              "      <td>1282348800</td>\n",
              "      <td>5</td>\n",
              "      <td>This product Awesome and Helpful for anyone wi...</td>\n",
              "      <td>3</td>\n",
              "    </tr>\n",
              "    <tr>\n",
              "      <th>473</th>\n",
              "      <td>A10K7E9F0THV3</td>\n",
              "      <td>B0000535LF</td>\n",
              "      <td>Carol E. White</td>\n",
              "      <td>1315180800</td>\n",
              "      <td>5</td>\n",
              "      <td>Naturade Total Soy Meal Replacement powder was...</td>\n",
              "      <td>4</td>\n",
              "    </tr>\n",
              "    <tr>\n",
              "      <th>41746</th>\n",
              "      <td>A33BL538BKBA0S</td>\n",
              "      <td>B00005C2M3</td>\n",
              "      <td>girlabouttownl33t</td>\n",
              "      <td>1301443200</td>\n",
              "      <td>5</td>\n",
              "      <td>Buying this much the most cost effective way a...</td>\n",
              "      <td>2</td>\n",
              "    </tr>\n",
              "  </tbody>\n",
              "</table>\n",
              "</div>"
            ],
            "text/plain": [
              "               UserId  ... COUNT(*)\n",
              "53360  A3OI7ZGH6WZJ5G  ...        2\n",
              "26134  A2BEAAU6N7K8GD  ...        2\n",
              "19211  A1YVJENMZL29O7  ...        3\n",
              "473     A10K7E9F0THV3  ...        4\n",
              "41746  A33BL538BKBA0S  ...        2\n",
              "\n",
              "[5 rows x 7 columns]"
            ]
          },
          "metadata": {
            "tags": []
          },
          "execution_count": 14
        }
      ]
    },
    {
      "cell_type": "code",
      "metadata": {
        "id": "U6aM3psC9Hio",
        "colab_type": "code",
        "outputId": "f4016c48-b362-4235-af05-47e1a7cd1638",
        "colab": {
          "base_uri": "https://localhost:8080/",
          "height": 289
        }
      },
      "source": [
        "def lower_case(text):\n",
        "  return text.lower()\n",
        "\n",
        "df['Text'] = df['Text'].apply(lower_case)\n",
        "\n",
        "df.head()"
      ],
      "execution_count": 0,
      "outputs": [
        {
          "output_type": "execute_result",
          "data": {
            "text/html": [
              "<div>\n",
              "<style scoped>\n",
              "    .dataframe tbody tr th:only-of-type {\n",
              "        vertical-align: middle;\n",
              "    }\n",
              "\n",
              "    .dataframe tbody tr th {\n",
              "        vertical-align: top;\n",
              "    }\n",
              "\n",
              "    .dataframe thead th {\n",
              "        text-align: right;\n",
              "    }\n",
              "</style>\n",
              "<table border=\"1\" class=\"dataframe\">\n",
              "  <thead>\n",
              "    <tr style=\"text-align: right;\">\n",
              "      <th></th>\n",
              "      <th>UserId</th>\n",
              "      <th>ProductId</th>\n",
              "      <th>ProfileName</th>\n",
              "      <th>Time</th>\n",
              "      <th>Score</th>\n",
              "      <th>Text</th>\n",
              "      <th>COUNT(*)</th>\n",
              "    </tr>\n",
              "  </thead>\n",
              "  <tbody>\n",
              "    <tr>\n",
              "      <th>53360</th>\n",
              "      <td>A3OI7ZGH6WZJ5G</td>\n",
              "      <td>0006641040</td>\n",
              "      <td>Mary Jane Rogers \"Maedchen\"</td>\n",
              "      <td>1293840000</td>\n",
              "      <td>5</td>\n",
              "      <td>the same author wrote where the wild things ar...</td>\n",
              "      <td>2</td>\n",
              "    </tr>\n",
              "    <tr>\n",
              "      <th>26134</th>\n",
              "      <td>A2BEAAU6N7K8GD</td>\n",
              "      <td>B000052Y74</td>\n",
              "      <td>Silne30</td>\n",
              "      <td>1350345600</td>\n",
              "      <td>4</td>\n",
              "      <td>its just described its minty helps with milddr...</td>\n",
              "      <td>2</td>\n",
              "    </tr>\n",
              "    <tr>\n",
              "      <th>19211</th>\n",
              "      <td>A1YVJENMZL29O7</td>\n",
              "      <td>B00005344V</td>\n",
              "      <td>R. Meuli</td>\n",
              "      <td>1282348800</td>\n",
              "      <td>5</td>\n",
              "      <td>this product awesome and helpful for anyone wi...</td>\n",
              "      <td>3</td>\n",
              "    </tr>\n",
              "    <tr>\n",
              "      <th>473</th>\n",
              "      <td>A10K7E9F0THV3</td>\n",
              "      <td>B0000535LF</td>\n",
              "      <td>Carol E. White</td>\n",
              "      <td>1315180800</td>\n",
              "      <td>5</td>\n",
              "      <td>naturade total soy meal replacement powder was...</td>\n",
              "      <td>4</td>\n",
              "    </tr>\n",
              "    <tr>\n",
              "      <th>41746</th>\n",
              "      <td>A33BL538BKBA0S</td>\n",
              "      <td>B00005C2M3</td>\n",
              "      <td>girlabouttownl33t</td>\n",
              "      <td>1301443200</td>\n",
              "      <td>5</td>\n",
              "      <td>buying this much the most cost effective way a...</td>\n",
              "      <td>2</td>\n",
              "    </tr>\n",
              "  </tbody>\n",
              "</table>\n",
              "</div>"
            ],
            "text/plain": [
              "               UserId  ... COUNT(*)\n",
              "53360  A3OI7ZGH6WZJ5G  ...        2\n",
              "26134  A2BEAAU6N7K8GD  ...        2\n",
              "19211  A1YVJENMZL29O7  ...        3\n",
              "473     A10K7E9F0THV3  ...        4\n",
              "41746  A33BL538BKBA0S  ...        2\n",
              "\n",
              "[5 rows x 7 columns]"
            ]
          },
          "metadata": {
            "tags": []
          },
          "execution_count": 15
        }
      ]
    },
    {
      "cell_type": "code",
      "metadata": {
        "id": "2AXPX_cK-m-4",
        "colab_type": "code",
        "outputId": "35fd3237-4ef9-4544-a58e-2608f451c826",
        "colab": {
          "base_uri": "https://localhost:8080/",
          "height": 374
        }
      },
      "source": [
        "import nltk\n",
        "\n",
        "def remove_stopwords(text):\n",
        "  try:\n",
        "    from nltk.corpus import stopwords\n",
        "    from nltk.tokenize import word_tokenize\n",
        "    stop_words = set(stopwords.words( 'english' ))\n",
        "    word_tokens = word_tokenize(text)\n",
        "    filtered_sentence = [w for w in word_tokens if not w in stop_words]\n",
        "    \n",
        "  except:\n",
        "    print(\"Downloading NLTK resources\")\n",
        "    nltk.download(\"stopwords\")\n",
        "    nltk.download(\"punkt\")\n",
        "    return remove_stopwords(text)\n",
        "  \n",
        "  return \" \".join(filtered_sentence)\n",
        "\n",
        "df['Text'] = df['Text'].apply(remove_stopwords)\n",
        "\n",
        "df.head()"
      ],
      "execution_count": 0,
      "outputs": [
        {
          "output_type": "stream",
          "text": [
            "Downloading NLTK resources\n",
            "[nltk_data] Downloading package stopwords to /root/nltk_data...\n",
            "[nltk_data]   Unzipping corpora/stopwords.zip.\n",
            "[nltk_data] Downloading package punkt to /root/nltk_data...\n",
            "[nltk_data]   Unzipping tokenizers/punkt.zip.\n"
          ],
          "name": "stdout"
        },
        {
          "output_type": "execute_result",
          "data": {
            "text/html": [
              "<div>\n",
              "<style scoped>\n",
              "    .dataframe tbody tr th:only-of-type {\n",
              "        vertical-align: middle;\n",
              "    }\n",
              "\n",
              "    .dataframe tbody tr th {\n",
              "        vertical-align: top;\n",
              "    }\n",
              "\n",
              "    .dataframe thead th {\n",
              "        text-align: right;\n",
              "    }\n",
              "</style>\n",
              "<table border=\"1\" class=\"dataframe\">\n",
              "  <thead>\n",
              "    <tr style=\"text-align: right;\">\n",
              "      <th></th>\n",
              "      <th>UserId</th>\n",
              "      <th>ProductId</th>\n",
              "      <th>ProfileName</th>\n",
              "      <th>Time</th>\n",
              "      <th>Score</th>\n",
              "      <th>Text</th>\n",
              "      <th>COUNT(*)</th>\n",
              "    </tr>\n",
              "  </thead>\n",
              "  <tbody>\n",
              "    <tr>\n",
              "      <th>53360</th>\n",
              "      <td>A3OI7ZGH6WZJ5G</td>\n",
              "      <td>0006641040</td>\n",
              "      <td>Mary Jane Rogers \"Maedchen\"</td>\n",
              "      <td>1293840000</td>\n",
              "      <td>5</td>\n",
              "      <td>author wrote wild things carol king wrote grea...</td>\n",
              "      <td>2</td>\n",
              "    </tr>\n",
              "    <tr>\n",
              "      <th>26134</th>\n",
              "      <td>A2BEAAU6N7K8GD</td>\n",
              "      <td>B000052Y74</td>\n",
              "      <td>Silne30</td>\n",
              "      <td>1350345600</td>\n",
              "      <td>4</td>\n",
              "      <td>described minty helps milddry mouth provides r...</td>\n",
              "      <td>2</td>\n",
              "    </tr>\n",
              "    <tr>\n",
              "      <th>19211</th>\n",
              "      <td>A1YVJENMZL29O7</td>\n",
              "      <td>B00005344V</td>\n",
              "      <td>R. Meuli</td>\n",
              "      <td>1282348800</td>\n",
              "      <td>5</td>\n",
              "      <td>product awesome helpful anyone asthma breathin...</td>\n",
              "      <td>3</td>\n",
              "    </tr>\n",
              "    <tr>\n",
              "      <th>473</th>\n",
              "      <td>A10K7E9F0THV3</td>\n",
              "      <td>B0000535LF</td>\n",
              "      <td>Carol E. White</td>\n",
              "      <td>1315180800</td>\n",
              "      <td>5</td>\n",
              "      <td>naturade total soy meal replacement powder adv...</td>\n",
              "      <td>4</td>\n",
              "    </tr>\n",
              "    <tr>\n",
              "      <th>41746</th>\n",
              "      <td>A33BL538BKBA0S</td>\n",
              "      <td>B00005C2M3</td>\n",
              "      <td>girlabouttownl33t</td>\n",
              "      <td>1301443200</td>\n",
              "      <td>5</td>\n",
              "      <td>buying much cost effective way since lot makes...</td>\n",
              "      <td>2</td>\n",
              "    </tr>\n",
              "  </tbody>\n",
              "</table>\n",
              "</div>"
            ],
            "text/plain": [
              "               UserId  ... COUNT(*)\n",
              "53360  A3OI7ZGH6WZJ5G  ...        2\n",
              "26134  A2BEAAU6N7K8GD  ...        2\n",
              "19211  A1YVJENMZL29O7  ...        3\n",
              "473     A10K7E9F0THV3  ...        4\n",
              "41746  A33BL538BKBA0S  ...        2\n",
              "\n",
              "[5 rows x 7 columns]"
            ]
          },
          "metadata": {
            "tags": []
          },
          "execution_count": 16
        }
      ]
    },
    {
      "cell_type": "code",
      "metadata": {
        "id": "aDwJIr_GFJSI",
        "colab_type": "code",
        "outputId": "59d450a8-e1f6-4339-b344-2e873366d679",
        "colab": {
          "base_uri": "https://localhost:8080/",
          "height": 408
        }
      },
      "source": [
        "def stem_thy_words(text):\n",
        "\tfrom nltk.corpus import stopwords\n",
        "\tfrom nltk.stem import SnowballStemmer \n",
        "\t\n",
        "\tsnowball_stemmer = SnowballStemmer('english')\n",
        
        "\tstemmed_word = [snowball_stemmer.stem(word) for word in word_tokens]\n",
        "\treturn \" \".join(stemmed_word)\n",
        "\n",
        "df['Text'] = df['Text'].apply(stem_thy_words)\n",
        "\n",
        "df.head()"
      ],
      
    }
  ]
}
